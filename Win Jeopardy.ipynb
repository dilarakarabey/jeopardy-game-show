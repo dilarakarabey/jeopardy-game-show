{
 "cells": [
  {
   "cell_type": "markdown",
   "metadata": {
    "collapsed": true
   },
   "source": [
    "![](https://upload.wikimedia.org/wikipedia/commons/c/ce/Jeopardy%21_logo.png)\n",
    "\n",
    "\"Jeopardy!\" is a popular American TV game show created by Merv Griffin. You can find further information about the show [here](https://en.wikipedia.org/wiki/Jeopardy!).\n",
    "\n",
    "In this project, we will assume that we want to compete and we are going to try gaining some insights from a dataset of \"Jeopardy!\" questions to maximize our chances of winning the competition.\n",
    "\n",
    "You can find information about the data and the columns from [here](https://www.reddit.com/r/datasets/comments/1uyd0t/200000_jeopardy_questions_in_a_json_file/). It's available in both JSON and CSV formats and contains information about the questions. Let's import and explore the data a bit.\n",
    "\n",
    "# 1. Reading in the data"
   ]
  },
  {
   "cell_type": "code",
   "execution_count": 1,
   "metadata": {},
   "outputs": [],
   "source": [
    "import pandas as pd\n",
    "import numpy as np\n",
    "import re\n",
    "import random\n",
    "from scipy.stats import chisquare\n",
    "\n",
    "from IPython.core.interactiveshell import InteractiveShell\n",
    "\n",
    "InteractiveShell.ast_node_interactivity = \"all\""
   ]
  },
  {
   "cell_type": "code",
   "execution_count": 2,
   "metadata": {},
   "outputs": [
    {
     "data": {
      "text/html": [
       "<div>\n",
       "<style scoped>\n",
       "    .dataframe tbody tr th:only-of-type {\n",
       "        vertical-align: middle;\n",
       "    }\n",
       "\n",
       "    .dataframe tbody tr th {\n",
       "        vertical-align: top;\n",
       "    }\n",
       "\n",
       "    .dataframe thead th {\n",
       "        text-align: right;\n",
       "    }\n",
       "</style>\n",
       "<table border=\"1\" class=\"dataframe\">\n",
       "  <thead>\n",
       "    <tr style=\"text-align: right;\">\n",
       "      <th></th>\n",
       "      <th>Show Number</th>\n",
       "      <th>Air Date</th>\n",
       "      <th>Round</th>\n",
       "      <th>Category</th>\n",
       "      <th>Value</th>\n",
       "      <th>Question</th>\n",
       "      <th>Answer</th>\n",
       "    </tr>\n",
       "  </thead>\n",
       "  <tbody>\n",
       "    <tr>\n",
       "      <th>0</th>\n",
       "      <td>4680</td>\n",
       "      <td>2004-12-31</td>\n",
       "      <td>Jeopardy!</td>\n",
       "      <td>HISTORY</td>\n",
       "      <td>$200</td>\n",
       "      <td>For the last 8 years of his life, Galileo was ...</td>\n",
       "      <td>Copernicus</td>\n",
       "    </tr>\n",
       "    <tr>\n",
       "      <th>1</th>\n",
       "      <td>4680</td>\n",
       "      <td>2004-12-31</td>\n",
       "      <td>Jeopardy!</td>\n",
       "      <td>ESPN's TOP 10 ALL-TIME ATHLETES</td>\n",
       "      <td>$200</td>\n",
       "      <td>No. 2: 1912 Olympian; football star at Carlisl...</td>\n",
       "      <td>Jim Thorpe</td>\n",
       "    </tr>\n",
       "    <tr>\n",
       "      <th>2</th>\n",
       "      <td>4680</td>\n",
       "      <td>2004-12-31</td>\n",
       "      <td>Jeopardy!</td>\n",
       "      <td>EVERYBODY TALKS ABOUT IT...</td>\n",
       "      <td>$200</td>\n",
       "      <td>The city of Yuma in this state has a record av...</td>\n",
       "      <td>Arizona</td>\n",
       "    </tr>\n",
       "    <tr>\n",
       "      <th>3</th>\n",
       "      <td>4680</td>\n",
       "      <td>2004-12-31</td>\n",
       "      <td>Jeopardy!</td>\n",
       "      <td>THE COMPANY LINE</td>\n",
       "      <td>$200</td>\n",
       "      <td>In 1963, live on \"The Art Linkletter Show\", th...</td>\n",
       "      <td>McDonald's</td>\n",
       "    </tr>\n",
       "    <tr>\n",
       "      <th>4</th>\n",
       "      <td>4680</td>\n",
       "      <td>2004-12-31</td>\n",
       "      <td>Jeopardy!</td>\n",
       "      <td>EPITAPHS &amp; TRIBUTES</td>\n",
       "      <td>$200</td>\n",
       "      <td>Signer of the Dec. of Indep., framer of the Co...</td>\n",
       "      <td>John Adams</td>\n",
       "    </tr>\n",
       "  </tbody>\n",
       "</table>\n",
       "</div>"
      ],
      "text/plain": [
       "   Show Number    Air Date      Round                         Category  Value  \\\n",
       "0         4680  2004-12-31  Jeopardy!                          HISTORY   $200   \n",
       "1         4680  2004-12-31  Jeopardy!  ESPN's TOP 10 ALL-TIME ATHLETES   $200   \n",
       "2         4680  2004-12-31  Jeopardy!      EVERYBODY TALKS ABOUT IT...   $200   \n",
       "3         4680  2004-12-31  Jeopardy!                 THE COMPANY LINE   $200   \n",
       "4         4680  2004-12-31  Jeopardy!              EPITAPHS & TRIBUTES   $200   \n",
       "\n",
       "                                            Question      Answer  \n",
       "0  For the last 8 years of his life, Galileo was ...  Copernicus  \n",
       "1  No. 2: 1912 Olympian; football star at Carlisl...  Jim Thorpe  \n",
       "2  The city of Yuma in this state has a record av...     Arizona  \n",
       "3  In 1963, live on \"The Art Linkletter Show\", th...  McDonald's  \n",
       "4  Signer of the Dec. of Indep., framer of the Co...  John Adams  "
      ]
     },
     "execution_count": 2,
     "metadata": {},
     "output_type": "execute_result"
    }
   ],
   "source": [
    "jeopardy = pd.read_csv(\"jeopardy.csv\")\n",
    "jeopardy.head()"
   ]
  },
  {
   "cell_type": "code",
   "execution_count": 3,
   "metadata": {},
   "outputs": [
    {
     "name": "stdout",
     "output_type": "stream",
     "text": [
      "<class 'pandas.core.frame.DataFrame'>\n",
      "RangeIndex: 19999 entries, 0 to 19998\n",
      "Data columns (total 7 columns):\n",
      " #   Column       Non-Null Count  Dtype \n",
      "---  ------       --------------  ----- \n",
      " 0   Show Number  19999 non-null  int64 \n",
      " 1    Air Date    19999 non-null  object\n",
      " 2    Round       19999 non-null  object\n",
      " 3    Category    19999 non-null  object\n",
      " 4    Value       19999 non-null  object\n",
      " 5    Question    19999 non-null  object\n",
      " 6    Answer      19999 non-null  object\n",
      "dtypes: int64(1), object(6)\n",
      "memory usage: 1.1+ MB\n"
     ]
    }
   ],
   "source": [
    "jeopardy.info()"
   ]
  },
  {
   "cell_type": "markdown",
   "metadata": {},
   "source": [
    "As we can see, our dataset includes 19999 questions with no missing data. What seems strange, though, is that some column names are unexpectedly indented. We will fix this by using strip()."
   ]
  },
  {
   "cell_type": "code",
   "execution_count": 4,
   "metadata": {},
   "outputs": [
    {
     "data": {
      "text/plain": [
       "Index(['Show Number', 'Air Date', 'Round', 'Category', 'Value', 'Question',\n",
       "       'Answer'],\n",
       "      dtype='object')"
      ]
     },
     "execution_count": 4,
     "metadata": {},
     "output_type": "execute_result"
    }
   ],
   "source": [
    "jeopardy.columns = [column.strip() for column in jeopardy.columns]\n",
    "jeopardy.columns"
   ]
  },
  {
   "cell_type": "markdown",
   "metadata": {},
   "source": [
    "Now that we are done with this, let's further explore and see if the data requires some cleaning.\n",
    "\n",
    "# 2. Exploring and cleaning the data\n",
    "\n",
    "As we recall, the \"Air Date\" column contains dates but is not in datetime type. Let's first fix this."
   ]
  },
  {
   "cell_type": "code",
   "execution_count": 5,
   "metadata": {},
   "outputs": [
    {
     "data": {
      "text/html": [
       "<div>\n",
       "<style scoped>\n",
       "    .dataframe tbody tr th:only-of-type {\n",
       "        vertical-align: middle;\n",
       "    }\n",
       "\n",
       "    .dataframe tbody tr th {\n",
       "        vertical-align: top;\n",
       "    }\n",
       "\n",
       "    .dataframe thead th {\n",
       "        text-align: right;\n",
       "    }\n",
       "</style>\n",
       "<table border=\"1\" class=\"dataframe\">\n",
       "  <thead>\n",
       "    <tr style=\"text-align: right;\">\n",
       "      <th></th>\n",
       "      <th>Show Number</th>\n",
       "      <th>Air Date</th>\n",
       "      <th>Round</th>\n",
       "      <th>Category</th>\n",
       "      <th>Value</th>\n",
       "      <th>Question</th>\n",
       "      <th>Answer</th>\n",
       "    </tr>\n",
       "  </thead>\n",
       "  <tbody>\n",
       "    <tr>\n",
       "      <th>0</th>\n",
       "      <td>4680</td>\n",
       "      <td>2004-12-31</td>\n",
       "      <td>Jeopardy!</td>\n",
       "      <td>HISTORY</td>\n",
       "      <td>$200</td>\n",
       "      <td>For the last 8 years of his life, Galileo was ...</td>\n",
       "      <td>Copernicus</td>\n",
       "    </tr>\n",
       "    <tr>\n",
       "      <th>1</th>\n",
       "      <td>4680</td>\n",
       "      <td>2004-12-31</td>\n",
       "      <td>Jeopardy!</td>\n",
       "      <td>ESPN's TOP 10 ALL-TIME ATHLETES</td>\n",
       "      <td>$200</td>\n",
       "      <td>No. 2: 1912 Olympian; football star at Carlisl...</td>\n",
       "      <td>Jim Thorpe</td>\n",
       "    </tr>\n",
       "    <tr>\n",
       "      <th>2</th>\n",
       "      <td>4680</td>\n",
       "      <td>2004-12-31</td>\n",
       "      <td>Jeopardy!</td>\n",
       "      <td>EVERYBODY TALKS ABOUT IT...</td>\n",
       "      <td>$200</td>\n",
       "      <td>The city of Yuma in this state has a record av...</td>\n",
       "      <td>Arizona</td>\n",
       "    </tr>\n",
       "    <tr>\n",
       "      <th>3</th>\n",
       "      <td>4680</td>\n",
       "      <td>2004-12-31</td>\n",
       "      <td>Jeopardy!</td>\n",
       "      <td>THE COMPANY LINE</td>\n",
       "      <td>$200</td>\n",
       "      <td>In 1963, live on \"The Art Linkletter Show\", th...</td>\n",
       "      <td>McDonald's</td>\n",
       "    </tr>\n",
       "    <tr>\n",
       "      <th>4</th>\n",
       "      <td>4680</td>\n",
       "      <td>2004-12-31</td>\n",
       "      <td>Jeopardy!</td>\n",
       "      <td>EPITAPHS &amp; TRIBUTES</td>\n",
       "      <td>$200</td>\n",
       "      <td>Signer of the Dec. of Indep., framer of the Co...</td>\n",
       "      <td>John Adams</td>\n",
       "    </tr>\n",
       "  </tbody>\n",
       "</table>\n",
       "</div>"
      ],
      "text/plain": [
       "   Show Number   Air Date      Round                         Category Value  \\\n",
       "0         4680 2004-12-31  Jeopardy!                          HISTORY  $200   \n",
       "1         4680 2004-12-31  Jeopardy!  ESPN's TOP 10 ALL-TIME ATHLETES  $200   \n",
       "2         4680 2004-12-31  Jeopardy!      EVERYBODY TALKS ABOUT IT...  $200   \n",
       "3         4680 2004-12-31  Jeopardy!                 THE COMPANY LINE  $200   \n",
       "4         4680 2004-12-31  Jeopardy!              EPITAPHS & TRIBUTES  $200   \n",
       "\n",
       "                                            Question      Answer  \n",
       "0  For the last 8 years of his life, Galileo was ...  Copernicus  \n",
       "1  No. 2: 1912 Olympian; football star at Carlisl...  Jim Thorpe  \n",
       "2  The city of Yuma in this state has a record av...     Arizona  \n",
       "3  In 1963, live on \"The Art Linkletter Show\", th...  McDonald's  \n",
       "4  Signer of the Dec. of Indep., framer of the Co...  John Adams  "
      ]
     },
     "execution_count": 5,
     "metadata": {},
     "output_type": "execute_result"
    },
    {
     "name": "stdout",
     "output_type": "stream",
     "text": [
      "<class 'pandas.core.frame.DataFrame'>\n",
      "RangeIndex: 19999 entries, 0 to 19998\n",
      "Data columns (total 7 columns):\n",
      " #   Column       Non-Null Count  Dtype         \n",
      "---  ------       --------------  -----         \n",
      " 0   Show Number  19999 non-null  int64         \n",
      " 1   Air Date     19999 non-null  datetime64[ns]\n",
      " 2   Round        19999 non-null  object        \n",
      " 3   Category     19999 non-null  object        \n",
      " 4   Value        19999 non-null  object        \n",
      " 5   Question     19999 non-null  object        \n",
      " 6   Answer       19999 non-null  object        \n",
      "dtypes: datetime64[ns](1), int64(1), object(5)\n",
      "memory usage: 1.1+ MB\n"
     ]
    }
   ],
   "source": [
    "jeopardy[\"Air Date\"] = pd.to_datetime(jeopardy[\"Air Date\"])\n",
    "jeopardy.head()\n",
    "jeopardy.info()"
   ]
  },
  {
   "cell_type": "markdown",
   "metadata": {},
   "source": [
    "Now that we are done with converting that column, we will take a look at other columns."
   ]
  },
  {
   "cell_type": "code",
   "execution_count": 6,
   "metadata": {},
   "outputs": [
    {
     "data": {
      "text/plain": [
       "Jeopardy!           9901\n",
       "Double Jeopardy!    9762\n",
       "Final Jeopardy!      335\n",
       "Tiebreaker             1\n",
       "Name: Round, dtype: int64"
      ]
     },
     "execution_count": 6,
     "metadata": {},
     "output_type": "execute_result"
    }
   ],
   "source": [
    "jeopardy.Round.value_counts(dropna=False)"
   ]
  },
  {
   "cell_type": "code",
   "execution_count": 7,
   "metadata": {
    "scrolled": true
   },
   "outputs": [
    {
     "data": {
      "text/plain": [
       "TELEVISION                51\n",
       "U.S. GEOGRAPHY            50\n",
       "LITERATURE                45\n",
       "AMERICAN HISTORY          40\n",
       "BEFORE & AFTER            40\n",
       "                          ..\n",
       "SISTER CITIES              1\n",
       "THEATRE                    1\n",
       "20th CENTURY NOVELISTS     1\n",
       "SPORTS & THE MOVIES        1\n",
       "HISTORIC HEADLINES         1\n",
       "Name: Category, Length: 3581, dtype: int64"
      ]
     },
     "execution_count": 7,
     "metadata": {},
     "output_type": "execute_result"
    }
   ],
   "source": [
    "jeopardy.Category.value_counts(dropna=False)"
   ]
  },
  {
   "cell_type": "code",
   "execution_count": 8,
   "metadata": {
    "scrolled": true
   },
   "outputs": [
    {
     "data": {
      "text/plain": [
       "0    $200\n",
       "1    $200\n",
       "2    $200\n",
       "3    $200\n",
       "4    $200\n",
       "5    $200\n",
       "6    $400\n",
       "7    $400\n",
       "8    $400\n",
       "9    $400\n",
       "Name: Value, dtype: object"
      ]
     },
     "execution_count": 8,
     "metadata": {},
     "output_type": "execute_result"
    }
   ],
   "source": [
    "jeopardy.Value.head(10)"
   ]
  },
  {
   "cell_type": "markdown",
   "metadata": {},
   "source": [
    "The Value column needs some cleaning. We will be stripping the dollar signs off and converting the column to numeric type."
   ]
  },
  {
   "cell_type": "code",
   "execution_count": 9,
   "metadata": {},
   "outputs": [
    {
     "data": {
      "text/plain": [
       "0    200\n",
       "1    200\n",
       "2    200\n",
       "3    200\n",
       "4    200\n",
       "5    200\n",
       "6    400\n",
       "7    400\n",
       "8    400\n",
       "9    400\n",
       "Name: Value, dtype: int32"
      ]
     },
     "execution_count": 9,
     "metadata": {},
     "output_type": "execute_result"
    }
   ],
   "source": [
    "def convert_value(value):\n",
    "    value = re.sub(r\"([^\\w\\s]*)\", \"\", value)\n",
    "    \n",
    "    if value == \"None\":\n",
    "        return 0\n",
    "    else:\n",
    "        return int(value)\n",
    "\n",
    "jeopardy.Value = jeopardy.Value.apply(convert_value)\n",
    "jeopardy.Value = jeopardy.Value.astype(int)\n",
    "jeopardy.Value.head(10)"
   ]
  },
  {
   "cell_type": "markdown",
   "metadata": {},
   "source": [
    "We will now move on to columns Question and Answer. We will be normalizing these columns by making all characters lowercase & removing punctuation."
   ]
  },
  {
   "cell_type": "code",
   "execution_count": 10,
   "metadata": {},
   "outputs": [
    {
     "data": {
      "text/html": [
       "<div>\n",
       "<style scoped>\n",
       "    .dataframe tbody tr th:only-of-type {\n",
       "        vertical-align: middle;\n",
       "    }\n",
       "\n",
       "    .dataframe tbody tr th {\n",
       "        vertical-align: top;\n",
       "    }\n",
       "\n",
       "    .dataframe thead th {\n",
       "        text-align: right;\n",
       "    }\n",
       "</style>\n",
       "<table border=\"1\" class=\"dataframe\">\n",
       "  <thead>\n",
       "    <tr style=\"text-align: right;\">\n",
       "      <th></th>\n",
       "      <th>Show Number</th>\n",
       "      <th>Air Date</th>\n",
       "      <th>Round</th>\n",
       "      <th>Category</th>\n",
       "      <th>Value</th>\n",
       "      <th>Question</th>\n",
       "      <th>Answer</th>\n",
       "    </tr>\n",
       "  </thead>\n",
       "  <tbody>\n",
       "    <tr>\n",
       "      <th>0</th>\n",
       "      <td>4680</td>\n",
       "      <td>2004-12-31</td>\n",
       "      <td>Jeopardy!</td>\n",
       "      <td>HISTORY</td>\n",
       "      <td>200</td>\n",
       "      <td>for the last 8 years of his life galileo was u...</td>\n",
       "      <td>copernicus</td>\n",
       "    </tr>\n",
       "    <tr>\n",
       "      <th>1</th>\n",
       "      <td>4680</td>\n",
       "      <td>2004-12-31</td>\n",
       "      <td>Jeopardy!</td>\n",
       "      <td>ESPN's TOP 10 ALL-TIME ATHLETES</td>\n",
       "      <td>200</td>\n",
       "      <td>no 2 1912 olympian football star at carlisle i...</td>\n",
       "      <td>jim thorpe</td>\n",
       "    </tr>\n",
       "    <tr>\n",
       "      <th>2</th>\n",
       "      <td>4680</td>\n",
       "      <td>2004-12-31</td>\n",
       "      <td>Jeopardy!</td>\n",
       "      <td>EVERYBODY TALKS ABOUT IT...</td>\n",
       "      <td>200</td>\n",
       "      <td>the city of yuma in this state has a record av...</td>\n",
       "      <td>arizona</td>\n",
       "    </tr>\n",
       "    <tr>\n",
       "      <th>3</th>\n",
       "      <td>4680</td>\n",
       "      <td>2004-12-31</td>\n",
       "      <td>Jeopardy!</td>\n",
       "      <td>THE COMPANY LINE</td>\n",
       "      <td>200</td>\n",
       "      <td>in 1963 live on the art linkletter show this c...</td>\n",
       "      <td>mcdonalds</td>\n",
       "    </tr>\n",
       "    <tr>\n",
       "      <th>4</th>\n",
       "      <td>4680</td>\n",
       "      <td>2004-12-31</td>\n",
       "      <td>Jeopardy!</td>\n",
       "      <td>EPITAPHS &amp; TRIBUTES</td>\n",
       "      <td>200</td>\n",
       "      <td>signer of the dec of indep framer of the const...</td>\n",
       "      <td>john adams</td>\n",
       "    </tr>\n",
       "  </tbody>\n",
       "</table>\n",
       "</div>"
      ],
      "text/plain": [
       "   Show Number   Air Date      Round                         Category  Value  \\\n",
       "0         4680 2004-12-31  Jeopardy!                          HISTORY    200   \n",
       "1         4680 2004-12-31  Jeopardy!  ESPN's TOP 10 ALL-TIME ATHLETES    200   \n",
       "2         4680 2004-12-31  Jeopardy!      EVERYBODY TALKS ABOUT IT...    200   \n",
       "3         4680 2004-12-31  Jeopardy!                 THE COMPANY LINE    200   \n",
       "4         4680 2004-12-31  Jeopardy!              EPITAPHS & TRIBUTES    200   \n",
       "\n",
       "                                            Question      Answer  \n",
       "0  for the last 8 years of his life galileo was u...  copernicus  \n",
       "1  no 2 1912 olympian football star at carlisle i...  jim thorpe  \n",
       "2  the city of yuma in this state has a record av...     arizona  \n",
       "3  in 1963 live on the art linkletter show this c...   mcdonalds  \n",
       "4  signer of the dec of indep framer of the const...  john adams  "
      ]
     },
     "execution_count": 10,
     "metadata": {},
     "output_type": "execute_result"
    }
   ],
   "source": [
    "jeopardy.Question = jeopardy.Question.str.lower().str.replace(r\"([^\\w\\s]*)\", \"\")\n",
    "jeopardy.Answer = jeopardy.Answer.str.lower().str.replace(r\"([^\\w\\s]*)\", \"\")\n",
    "jeopardy.head()"
   ]
  },
  {
   "cell_type": "markdown",
   "metadata": {},
   "source": [
    "# 3. Choosing what to study\n",
    "\n",
    "When there are so many things to take into consideration, choosing what kind of questions you should be working on can be complicated. So, we will first take a look at questions where answers are pretty obvious from them. For this, we will be taking a look at the words in columns Question and Answer."
   ]
  },
  {
   "cell_type": "code",
   "execution_count": 11,
   "metadata": {},
   "outputs": [
    {
     "data": {
      "text/plain": [
       "0.06"
      ]
     },
     "execution_count": 11,
     "metadata": {},
     "output_type": "execute_result"
    }
   ],
   "source": [
    "def count_word_matches(row):\n",
    "    split_question = row[-2].split()\n",
    "    split_answer = row[-1].split()\n",
    "\n",
    "    match_counter = 0 #Initializing counter\n",
    "    \n",
    "    if \"the\" in split_answer:\n",
    "        split_answer.remove(\"the\") #Removing the from answers\n",
    "            \n",
    "    if len(split_answer) == 0: #Avoiding zero division error\n",
    "        return 0\n",
    "    \n",
    "    else:\n",
    "        for word in split_answer:\n",
    "            if word in split_question:\n",
    "                match_counter += 1\n",
    "        return match_counter / len(split_answer)\n",
    "        \n",
    "obvious_answer = jeopardy.apply(count_word_matches, axis=1)\n",
    "round(obvious_answer.mean(), 2)"
   ]
  },
  {
   "cell_type": "markdown",
   "metadata": {},
   "source": [
    "As we can see, about 6% of the answers are given in the questions. We will next take a look at recycled questions. To do this, we will be using complex words that are longer than 5 characters."
   ]
  },
  {
   "cell_type": "code",
   "execution_count": 12,
   "metadata": {},
   "outputs": [
    {
     "data": {
      "text/plain": [
       "0.69"
      ]
     },
     "execution_count": 12,
     "metadata": {},
     "output_type": "execute_result"
    }
   ],
   "source": [
    "jeopardy = jeopardy.sort_values(\"Air Date\")\n",
    "\n",
    "words_used = set() #Using a set to prevent duplications\n",
    "\n",
    "def overlap_counter(question):\n",
    "    split_question = question.split()\n",
    "    \n",
    "    match_counter = 0\n",
    "    \n",
    "    split_question = [word for word in split_question if len(word) > 5]\n",
    "    \n",
    "    for word in split_question:\n",
    "        if word in words_used:\n",
    "            match_counter += 1\n",
    "        words_used.add(word)\n",
    "        \n",
    "    if len(split_question) > 0:\n",
    "        match_counter /= len(split_question)\n",
    "        \n",
    "    return match_counter\n",
    "    \n",
    "jeopardy[\"question_overlap\"] = jeopardy.Question.apply(overlap_counter)\n",
    "round(jeopardy.question_overlap.mean(), 2)"
   ]
  },
  {
   "cell_type": "markdown",
   "metadata": {},
   "source": [
    "As we can see, 69% of the complex words have been used previously. This means that some of the questions might be recycled.\n",
    "\n",
    "An important factor in choosing what to study is question values. If we recall from our cleaning session, some questions were even bringing in 0 dollars. We will now take a look at the Value column to differentiate between low value and high value questions. Our value threshold will be 600 dollars. We will be finding the words that differ most in usage between high and low valued questions. We will be using a random fraction of the words_used set from the cell above."
   ]
  },
  {
   "cell_type": "code",
   "execution_count": 13,
   "metadata": {},
   "outputs": [
    {
     "name": "stdout",
     "output_type": "stream",
     "text": [
      "['middlesboro', 'drummers', 'debuted', 'bermudas', 'descartes', 'overwhelming', 'respecta', 'screenwriting', 'hacked', 'foundation']\n",
      "[(1, 0), (0, 2), (13, 17), (0, 1), (1, 0), (0, 1), (1, 0), (0, 1), (0, 1), (5, 7)]\n"
     ]
    }
   ],
   "source": [
    "jeopardy[\"high_value\"] = jeopardy.Value.apply(lambda value: True if value > 600 else False)\n",
    "\n",
    "words_used = list(words_used)\n",
    "\n",
    "def high_low_counter(word):\n",
    "    low = 0\n",
    "    high = 0\n",
    "    \n",
    "    for index, row in jeopardy.iterrows():\n",
    "        question_split = row[\"Question\"].split()\n",
    "        \n",
    "        if word in question_split:\n",
    "            if row[\"high_value\"]:\n",
    "                high += 1\n",
    "            else:\n",
    "                low += 1\n",
    "    \n",
    "    return high, low\n",
    "\n",
    "random.seed(1) #For reproducibility of the results\n",
    "sample_words = random.sample(words_used, 10)\n",
    "\n",
    "print(sample_words)\n",
    "\n",
    "observation_expectation = [high_low_counter(w) for w in sample_words]\n",
    "\n",
    "print(observation_expectation)"
   ]
  },
  {
   "cell_type": "markdown",
   "metadata": {},
   "source": [
    "Now we have our sample of words (longer than 5 characters) and their corresponding occurence counts in high and low valued questions, respectively. \n",
    "\n",
    "# 4. Chi-Squared test\n",
    "\n",
    "We will now run a Chi-Squared test to determine statistical significance."
   ]
  },
  {
   "cell_type": "code",
   "execution_count": 14,
   "metadata": {},
   "outputs": [
    {
     "name": "stdout",
     "output_type": "stream",
     "text": [
      "1.290836197021764 0.2558939073829579\n",
      "1.5493832638211025 0.21322651092741213\n",
      "0.0012399639609127077 0.9719097988788106\n",
      "0.7746916319105512 0.37876956025360686\n",
      "1.290836197021764 0.2558939073829579\n",
      "0.7746916319105512 0.37876956025360686\n",
      "1.290836197021764 0.2558939073829579\n",
      "0.7746916319105512 0.37876956025360686\n",
      "0.7746916319105512 0.37876956025360686\n",
      "0.01923290743009192 0.8897008433673155\n"
     ]
    }
   ],
   "source": [
    "high_value_count = jeopardy.high_value.sum()\n",
    "low_value_count = jeopardy.high_value.shape[0] - high_value_count\n",
    "\n",
    "for high, low in observation_expectation:\n",
    "    total = high + low\n",
    "    \n",
    "    total_proportion = total / jeopardy.shape[0]\n",
    "    \n",
    "    expected_high_term_freq = total_proportion * high_value_count\n",
    "    expected_low_term_freq = total_proportion * low_value_count\n",
    "    \n",
    "    observe = np.array([high, low])\n",
    "    expect = np.array([expected_high_term_freq, expected_low_term_freq])\n",
    "    \n",
    "    chisquare_value, pvalue = chisquare(observe, expect)\n",
    "\n",
    "    print(chisquare_value, pvalue)"
   ]
  },
  {
   "cell_type": "markdown",
   "metadata": {},
   "source": [
    "As we can see, all of the p values are higher than 5%. This means none of the words in our sample vocabulary had shown any significant difference in value. These words can be translated into: The difference in words' occurence in high vs. low valued questions can be said to be due to chance.\n",
    "\n",
    "# Conlusion\n",
    "\n",
    "In this project, after brief exploration and cleaning of our dataset, we have analyzed our data from different aspects. We have gained insights that might help us create a more fitting study path for competition prep. These include:\n",
    "\n",
    "* 6% of the answers occurred in the questions.\n",
    "* 69% of the complex words (usually terms) have occurred in previous questions.\n",
    "* Terms' occurrence in high and low valued questions had no significance. Also, their occurences were actually too low to even take this into consideration."
   ]
  }
 ],
 "metadata": {
  "kernelspec": {
   "display_name": "Python 3",
   "language": "python",
   "name": "python3"
  },
  "language_info": {
   "codemirror_mode": {
    "name": "ipython",
    "version": 3
   },
   "file_extension": ".py",
   "mimetype": "text/x-python",
   "name": "python",
   "nbconvert_exporter": "python",
   "pygments_lexer": "ipython3",
   "version": "3.7.6"
  }
 },
 "nbformat": 4,
 "nbformat_minor": 1
}
